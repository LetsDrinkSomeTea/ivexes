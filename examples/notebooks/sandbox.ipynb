{
 "cells": [
  {
   "cell_type": "code",
   "execution_count": 7,
   "id": "e20a920b-8f76-42f6-b7e2-8d85566f848d",
   "metadata": {},
   "outputs": [],
   "source": [
    "import os\n",
    "\n",
    "os.environ['LLM_API_KEY'] = 'sk-for-validation'\n",
    "os.environ['SANDBOX_IMAGE'] = 'python:3.13'"
   ]
  },
  {
   "cell_type": "code",
   "execution_count": 8,
   "id": "349971b6-12cd-4daf-b4c2-41da070808f1",
   "metadata": {},
   "outputs": [
    {
     "data": {
      "text/plain": [
       "True"
      ]
     },
     "execution_count": 8,
     "metadata": {},
     "output_type": "execute_result"
    }
   ],
   "source": [
    "from ivexes.sandbox import Sandbox\n",
    "\n",
    "sb = Sandbox()\n",
    "sb.connect()"
   ]
  },
  {
   "cell_type": "code",
   "execution_count": 9,
   "id": "89ea77f7-de61-42ac-961f-82394973db52",
   "metadata": {},
   "outputs": [
    {
     "data": {
      "text/plain": [
       "'total 20\\ndrwxr-x--- 2 user user 4096 Jul 22 14:57 .\\ndrwxr-xr-x 1 root root 4096 Jul 22 14:57 ..\\n-rw-r--r-- 1 user user  220 Mar 31  2024 .bash_logout\\n-rw-r--r-- 1 user user 3771 Mar 31  2024 .bashrc\\n-rw-r--r-- 1 user user  807 Mar 31  2024 .profile\\n/home/user\\n'"
      ]
     },
     "execution_count": 9,
     "metadata": {},
     "output_type": "execute_result"
    }
   ],
   "source": [
    "sb.run(command='ls -la && pwd')[1]"
   ]
  },
  {
   "cell_type": "code",
   "execution_count": 13,
   "id": "9c8b6bd1-4d6f-435f-9ecc-e7d19d0f8ece",
   "metadata": {},
   "outputs": [
    {
     "data": {
      "text/plain": [
       "'total 24\\ndrwxr-x--- 2 user user 4096 Jul 22 14:57 .\\ndrwxr-xr-x 1 root root 4096 Jul 22 14:57 ..\\n-rw-r--r-- 1 user user  220 Mar 31  2024 .bash_logout\\n-rw-r--r-- 1 user user 3771 Mar 31  2024 .bashrc\\n-rw-r--r-- 1 user user  807 Mar 31  2024 .profile\\n-rw-r--r-- 1 root root    5 Jan  1  1970 test\\n/home/user\\n'"
      ]
     },
     "execution_count": 13,
     "metadata": {},
     "output_type": "execute_result"
    }
   ],
   "source": [
    "sb.run(command='ls -la && pwd', user='user')[1]"
   ]
  },
  {
   "cell_type": "code",
   "execution_count": 10,
   "id": "4a50cfff-a660-40e8-84ad-fb1ca5ac24ca",
   "metadata": {},
   "outputs": [
    {
     "data": {
      "text/plain": [
       "True"
      ]
     },
     "execution_count": 10,
     "metadata": {},
     "output_type": "execute_result"
    }
   ],
   "source": [
    "sb.write_file(filename='/tmp/test', content='testcontent')"
   ]
  },
  {
   "cell_type": "code",
   "execution_count": 11,
   "id": "252f1f02-1f91-44c2-92d6-c11a30e647ea",
   "metadata": {},
   "outputs": [
    {
     "data": {
      "text/plain": [
       "'testcontent'"
      ]
     },
     "execution_count": 11,
     "metadata": {},
     "output_type": "execute_result"
    }
   ],
   "source": [
    "sb.read_file('/tmp/test')"
   ]
  },
  {
   "cell_type": "code",
   "execution_count": 12,
   "id": "d3e7043f-eeb5-4b98-98b3-369a634ffce4",
   "metadata": {},
   "outputs": [
    {
     "data": {
      "text/plain": [
       "'test2'"
      ]
     },
     "execution_count": 12,
     "metadata": {},
     "output_type": "execute_result"
    }
   ],
   "source": [
    "sb.write_file(filename='test', content='test2')\n",
    "sb.read_file('test')"
   ]
  },
  {
   "cell_type": "code",
   "execution_count": null,
   "id": "fc5480a4-9374-482b-abc1-7f9a844a7057",
   "metadata": {},
   "outputs": [],
   "source": []
  }
 ],
 "metadata": {
  "kernelspec": {
   "display_name": "Python 3 (ipykernel)",
   "language": "python",
   "name": "python3"
  },
  "language_info": {
   "codemirror_mode": {
    "name": "ipython",
    "version": 3
   },
   "file_extension": ".py",
   "mimetype": "text/x-python",
   "name": "python",
   "nbconvert_exporter": "python",
   "pygments_lexer": "ipython3",
   "version": "3.12.10"
  }
 },
 "nbformat": 4,
 "nbformat_minor": 5
}
