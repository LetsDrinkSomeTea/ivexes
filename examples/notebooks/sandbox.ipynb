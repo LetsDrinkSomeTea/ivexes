{
 "cells": [
  {
   "cell_type": "code",
   "execution_count": 1,
   "id": "e20a920b-8f76-42f6-b7e2-8d85566f848d",
   "metadata": {},
   "outputs": [],
   "source": [
    "import os\n",
    "\n",
    "os.environ['LLM_API_KEY'] = 'sk-for-validation'"
   ]
  },
  {
   "cell_type": "code",
   "execution_count": 2,
   "id": "349971b6-12cd-4daf-b4c2-41da070808f1",
   "metadata": {},
   "outputs": [
    {
     "data": {
      "text/plain": [
       "True"
      ]
     },
     "execution_count": 2,
     "metadata": {},
     "output_type": "execute_result"
    }
   ],
   "source": [
    "from ivexes.sandbox import Sandbox\n",
    "\n",
    "sb = Sandbox()\n",
    "sb.connect()"
   ]
  },
  {
   "cell_type": "code",
   "execution_count": 3,
   "id": "89ea77f7-de61-42ac-961f-82394973db52",
   "metadata": {},
   "outputs": [
    {
     "data": {
      "text/plain": [
       "'total 56\\ndrwx------ 5 user user  4096 Jul  9 13:51 .\\ndrwxr-xr-x 1 root root  4096 Jul  9 13:51 ..\\n-rw-r--r-- 1 user user   220 Jun 22 17:05 .bash_logout\\n-rw-r--r-- 1 user user  5551 Jul  6 04:02 .bashrc\\n-rw-r--r-- 1 user user  3526 Jun 22 17:05 .bashrc.original\\ndrwxr-xr-x 3 user user  4096 Jul  6 04:02 .config\\ndrwxr-xr-x 3 user user  4096 Jul  6 04:02 .java\\ndrwxr-xr-x 3 user user  4096 Jul  6 04:02 .local\\n-rw-r--r-- 1 user user   807 Jun 22 17:05 .profile\\n-rw-r--r-- 1 user user   336 Jun 24 08:51 .zprofile\\n-rw-r--r-- 1 user user 10856 Jun 24 08:51 .zshrc\\n'"
      ]
     },
     "execution_count": 3,
     "metadata": {},
     "output_type": "execute_result"
    }
   ],
   "source": [
    "sb.run(command='ls -la')[1]"
   ]
  },
  {
   "cell_type": "code",
   "execution_count": 9,
   "id": "4a50cfff-a660-40e8-84ad-fb1ca5ac24ca",
   "metadata": {},
   "outputs": [
    {
     "data": {
      "text/plain": [
       "True"
      ]
     },
     "execution_count": 9,
     "metadata": {},
     "output_type": "execute_result"
    }
   ],
   "source": [
    "sb.write_file(filename='test', content='testcontent')"
   ]
  },
  {
   "cell_type": "code",
   "execution_count": 17,
   "id": "0cf08562-0841-439e-ac41-6248e7aaf3e0",
   "metadata": {},
   "outputs": [
    {
     "name": "stderr",
     "output_type": "stream",
     "text": [
      "Command timed out after 5 seconds: ping google.de\n"
     ]
    },
    {
     "data": {
      "text/plain": [
       "(2,\n",
       " 'PING google.de (142.250.186.131) 56(84) bytes of data.\\n64 bytes from fra24s07-in-f3.1e100.net (142.250.186.131): icmp_seq=1 ttl=118 time=18.2 ms\\n64 bytes from fra24s07-in-f3.1e100.net (142.250.186.131): icmp_seq=2 ttl=118 time=17.9 ms\\n64 bytes from fra24s07-in-f3.1e100.net (142.250.186.131): icmp_seq=3 ttl=118 time=18.0 ms\\n64 bytes from fra24s07-in-f3.1e100.net (142.250.186.131): icmp_seq=4 ttl=118 time=17.8 ms\\n64 bytes from fra24s07-in-f3.1e100.net (142.250.186.131): icmp_seq=5 ttl=118 time=17.8 ms\\n\\n[TIMEOUT after 5s - partial results shown above]')"
      ]
     },
     "execution_count": 17,
     "metadata": {},
     "output_type": "execute_result"
    }
   ],
   "source": [
    "sb.run(command='ping google.de', timeout=5)"
   ]
  },
  {
   "cell_type": "code",
   "execution_count": 3,
   "id": "451fda0c-e731-4d33-8fc0-80c75d1c528d",
   "metadata": {},
   "outputs": [],
   "source": [
    "s = sb.interactive()"
   ]
  },
  {
   "cell_type": "code",
   "execution_count": 4,
   "id": "828ecb10-3f3b-4c9c-96e8-4680c8ef0b9a",
   "metadata": {},
   "outputs": [
    {
     "data": {
      "text/plain": [
       "True"
      ]
     },
     "execution_count": 4,
     "metadata": {},
     "output_type": "execute_result"
    }
   ],
   "source": [
    "s.send('whoami')\n",
    "s.is_alive()"
   ]
  },
  {
   "cell_type": "code",
   "execution_count": 5,
   "id": "dd81d8c7-42b6-4cdf-970a-57560045ecc0",
   "metadata": {},
   "outputs": [
    {
     "name": "stdout",
     "output_type": "stream",
     "text": [
      "STATUS.ALIVE\n"
     ]
    }
   ],
   "source": [
    "print(s.read_available()[1])"
   ]
  },
  {
   "cell_type": "code",
   "execution_count": 6,
   "id": "a03bb51d-0bae-4b84-89c7-d1431d85f42a",
   "metadata": {},
   "outputs": [
    {
     "data": {
      "text/plain": [
       "(<STATUS.EMPTY: 4>, 'Nothing to read')"
      ]
     },
     "execution_count": 6,
     "metadata": {},
     "output_type": "execute_result"
    }
   ],
   "source": [
    "s.read_available()"
   ]
  },
  {
   "cell_type": "code",
   "execution_count": 7,
   "id": "dc2aad95-e151-4819-bc61-dc6ce857bba8",
   "metadata": {},
   "outputs": [
    {
     "data": {
      "text/plain": [
       "True"
      ]
     },
     "execution_count": 7,
     "metadata": {},
     "output_type": "execute_result"
    }
   ],
   "source": [
    "sb.write_file('/tmp/test.txt', 'test file content')"
   ]
  },
  {
   "cell_type": "code",
   "execution_count": 8,
   "id": "f74ae994-10fb-4ecd-af1d-ecd70b58451e",
   "metadata": {},
   "outputs": [
    {
     "data": {
      "text/plain": [
       "'test file content'"
      ]
     },
     "execution_count": 8,
     "metadata": {},
     "output_type": "execute_result"
    }
   ],
   "source": [
    "sb.read_file('/tmp/test.txt')"
   ]
  },
  {
   "cell_type": "code",
   "execution_count": 9,
   "id": "7df48ce3-1118-463e-8e87-e7307ed7f9d6",
   "metadata": {},
   "outputs": [
    {
     "data": {
      "text/plain": [
       "(1, 'Python')"
      ]
     },
     "execution_count": 9,
     "metadata": {},
     "output_type": "execute_result"
    }
   ],
   "source": [
    "session = sb.interactive('python3')\n",
    "# Test multiple pattern matching\n",
    "index, output = session.expect(['>>>', 'Python', '>>>'], timeout=10)\n",
    "index, output"
   ]
  },
  {
   "cell_type": "code",
   "execution_count": 10,
   "id": "f1742ef1-4076-446d-b032-e706dc29e5ba",
   "metadata": {},
   "outputs": [
    {
     "data": {
      "text/plain": [
       "'\\x1b[30D\\n\\r\\x1b[?2004l\\x1b[?1l\\x1b>Hello from Python\\n\\x1b[?2004h\\x1b[?1h\\x1b=\\x1b[1A\\n\\x1b[1;35m>>> \\x1b[0m\\x1b[4D\\x1b[4C'"
      ]
     },
     "execution_count": 10,
     "metadata": {},
     "output_type": "execute_result"
    }
   ],
   "source": [
    "# If we got Python banner, wait for prompt\n",
    "if index == 1:\n",
    "    session.expect('>>>')\n",
    "\n",
    "# Test command execution\n",
    "session.send('print(\"Hello from Python\")')\n",
    "output = session.read_available()[1]\n",
    "output"
   ]
  },
  {
   "cell_type": "code",
   "execution_count": 11,
   "id": "93952d67-277e-4ee7-87a8-334749c6140c",
   "metadata": {},
   "outputs": [
    {
     "data": {
      "text/plain": [
       "(<STATUS.EMPTY: 4>, 'Nothing to read')"
      ]
     },
     "execution_count": 11,
     "metadata": {},
     "output_type": "execute_result"
    }
   ],
   "source": [
    "session.read_available()"
   ]
  },
  {
   "cell_type": "code",
   "execution_count": 12,
   "id": "5e312cd4-3745-46a5-b384-670247e5e7a3",
   "metadata": {},
   "outputs": [
    {
     "data": {
      "text/plain": [
       "True"
      ]
     },
     "execution_count": 12,
     "metadata": {},
     "output_type": "execute_result"
    }
   ],
   "source": [
    "'Hello from Python' in output"
   ]
  },
  {
   "cell_type": "code",
   "execution_count": 13,
   "id": "2fa151d7-d8ee-49bd-b794-fe9ecb7aae99",
   "metadata": {},
   "outputs": [],
   "source": [
    "# Test timeout behavior\n",
    "session.send('import time; time.sleep(0.1)')\n",
    "index, output = session.expect(['>>>', 'timeout_pattern'], timeout=1)"
   ]
  },
  {
   "cell_type": "code",
   "execution_count": 14,
   "id": "404fff10-26e0-4b89-bfc1-aff2d4b3131f",
   "metadata": {},
   "outputs": [],
   "source": [
    "index == 0  # Should match >>> before timeout\n",
    "\n",
    "# Test exit\n",
    "session.send('exit()')"
   ]
  },
  {
   "cell_type": "code",
   "execution_count": 15,
   "id": "8d64bfdd-c357-49bd-b82f-d6f5da6c014d",
   "metadata": {},
   "outputs": [
    {
     "data": {
      "text/plain": [
       "0"
      ]
     },
     "execution_count": 15,
     "metadata": {},
     "output_type": "execute_result"
    }
   ],
   "source": [
    "index"
   ]
  },
  {
   "cell_type": "code",
   "execution_count": null,
   "id": "252f1f02-1f91-44c2-92d6-c11a30e647ea",
   "metadata": {},
   "outputs": [],
   "source": []
  }
 ],
 "metadata": {
  "kernelspec": {
   "display_name": "Python 3 (ipykernel)",
   "language": "python",
   "name": "python3"
  },
  "language_info": {
   "codemirror_mode": {
    "name": "ipython",
    "version": 3
   },
   "file_extension": ".py",
   "mimetype": "text/x-python",
   "name": "python",
   "nbconvert_exporter": "python",
   "pygments_lexer": "ipython3",
   "version": "3.12.10"
  }
 },
 "nbformat": 4,
 "nbformat_minor": 5
}
