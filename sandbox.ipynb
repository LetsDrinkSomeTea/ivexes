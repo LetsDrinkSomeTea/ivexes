{
 "cells": [
  {
   "cell_type": "code",
   "execution_count": 1,
   "id": "ab3d598c-4d94-4223-8098-37af7312d56b",
   "metadata": {},
   "outputs": [
    {
     "name": "stderr",
     "output_type": "stream",
     "text": [
      "Container ivexes-ubuntu-ivexes exited immidiatly, trying to restart with CMD sleep infinity\n"
     ]
    },
    {
     "data": {
      "text/plain": [
       "True"
      ]
     },
     "execution_count": 1,
     "metadata": {},
     "output_type": "execute_result"
    }
   ],
   "source": [
    "import os\n",
    "\n",
    "os.environ['LLM_API_KEY'] = 'sk-for-validation'\n",
    "os.environ['SANDBOX_IMAGE'] = 'ubuntu:latest'\n",
    "from ivexes.sandbox import Sandbox\n",
    "\n",
    "sb = Sandbox(username='root', working_dir='/tmp')\n",
    "sb.connect()\n",
    "session = sb.interactive('sh')\n",
    "session.is_alive()"
   ]
  },
  {
   "cell_type": "code",
   "execution_count": 2,
   "id": "34cf0d53-8001-43bb-88e7-2813b90e9c0a",
   "metadata": {},
   "outputs": [
    {
     "data": {
      "text/plain": [
       "(<STATUS.ALIVE: 1>, '# ')"
      ]
     },
     "execution_count": 2,
     "metadata": {},
     "output_type": "execute_result"
    }
   ],
   "source": [
    "# Wait for shell prompt\n",
    "output = session.read()\n",
    "output"
   ]
  },
  {
   "cell_type": "code",
   "execution_count": 4,
   "id": "b0313ea6-ad1d-4c7b-a558-6fa072445743",
   "metadata": {},
   "outputs": [
    {
     "data": {
      "text/plain": [
       "(<STATUS.ALIVE: 1>, '\\nHello World\\n# ')"
      ]
     },
     "execution_count": 4,
     "metadata": {},
     "output_type": "execute_result"
    }
   ],
   "source": [
    "# Send a simple command\n",
    "session.send('echo \"Hello World\"')\n",
    "output = session.read()\n",
    "output"
   ]
  },
  {
   "cell_type": "code",
   "execution_count": 5,
   "id": "13b2167e-1457-478a-a552-faa2fc4d0ee5",
   "metadata": {},
   "outputs": [
    {
     "data": {
      "text/plain": [
       "(<STATUS.ALIVE: 1>, '\\ntest\\n# ')"
      ]
     },
     "execution_count": 5,
     "metadata": {},
     "output_type": "execute_result"
    }
   ],
   "source": [
    "# Test read_available\n",
    "session.send('echo \"test\"')\n",
    "available = session.read()\n",
    "available"
   ]
  },
  {
   "cell_type": "code",
   "execution_count": null,
   "id": "c94255e6-4084-4b4e-b0e7-c3dc9884c877",
   "metadata": {},
   "outputs": [],
   "source": [
    "session.read()"
   ]
  },
  {
   "cell_type": "code",
   "execution_count": null,
   "id": "4321b8ad-fb01-4c9c-8538-c0828bf22209",
   "metadata": {},
   "outputs": [],
   "source": []
  }
 ],
 "metadata": {
  "kernelspec": {
   "display_name": "Python 3 (ipykernel)",
   "language": "python",
   "name": "python3"
  },
  "language_info": {
   "codemirror_mode": {
    "name": "ipython",
    "version": 3
   },
   "file_extension": ".py",
   "mimetype": "text/x-python",
   "name": "python",
   "nbconvert_exporter": "python",
   "pygments_lexer": "ipython3",
   "version": "3.12.10"
  }
 },
 "nbformat": 4,
 "nbformat_minor": 5
}
